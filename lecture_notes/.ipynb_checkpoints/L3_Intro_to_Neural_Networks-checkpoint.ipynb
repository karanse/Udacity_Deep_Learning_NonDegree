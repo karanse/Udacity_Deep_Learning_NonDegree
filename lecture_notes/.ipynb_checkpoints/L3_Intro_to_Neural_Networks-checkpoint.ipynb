{
 "cells": [
  {
   "cell_type": "markdown",
   "metadata": {},
   "source": [
    "Bertelsmann Tech Scholarship Challenge Course - AI Track Nanodegree Program\n",
    "\n",
    "*Note: This notebook contains my notes from the Udacity - Introduction to Deep Learning with Pytorch*\n",
    "\n",
    "**Sema Karan**\n",
    "\n"
   ]
  },
  {
   "cell_type": "code",
   "execution_count": 1,
   "metadata": {},
   "outputs": [],
   "source": [
    "import pandas as pd"
   ]
  },
  {
   "cell_type": "markdown",
   "metadata": {},
   "source": [
    "# Perceptron as logical operators"
   ]
  },
  {
   "cell_type": "markdown",
   "metadata": {},
   "source": [
    "## AND Perceptron\n",
    "\n",
    "Can we play around with the weights and biases to get the correct results of **AND** operator?\n",
    "\n",
    "Yes, we can. The function below gets weights and bias and return the results of AND operator whether it's correct or not.\n",
    "\n",
    "We tried different combinations and `(1.0, 1.0,-2.0)` worked because when one of the input is zero, the other bias should be at least equal to to other weight with inverse sign to balance & make the total < 0."
   ]
  },
  {
   "cell_type": "code",
   "execution_count": 40,
   "metadata": {},
   "outputs": [],
   "source": [
    "def AND_Perceptron(weight1 = 0.0, weight2 = 0.0,bias =0.0):\n",
    "    \n",
    "\n",
    "# inital weights & bias\n",
    "# weight1 = 0.0\n",
    "# weight2 = 0.0\n",
    "# bias = 0.0\n",
    "\n",
    "# Input & expected outpur\n",
    "    test_input = [(1,1), (1,0),(0,1), (0,0)]\n",
    "    correct_output = [True, False, False, False]\n",
    "    outputs = []\n",
    "    linear_combinations = []\n",
    "    \n",
    "    # Generate & check\n",
    "    for i in test_input:\n",
    "        linear_combination = weight1*i[0] + weight2*i[1] + bias\n",
    "        output = int(linear_combination>=0)\n",
    "    \n",
    "        outputs.append(output)\n",
    "        linear_combinations.append(linear_combination)\n",
    "        \n",
    "   \n",
    "\n",
    "    check = []\n",
    "    for i in range(4):\n",
    "        if outputs[i] == correct_output[i]:\n",
    "            check.append('correct')\n",
    "        else:\n",
    "            check.append('wrong')\n",
    "    \n",
    "        \n",
    "    results = pd.DataFrame({'input1': [1,1,0,0], 'input2': [1,0,1,0],\n",
    "                       'linear_combination':linear_combinations,\n",
    "                       'output': outputs,\n",
    "                       'correct_output': correct_output,\n",
    "                       'check':check})\n",
    "\n",
    "    return results"
   ]
  },
  {
   "cell_type": "code",
   "execution_count": 44,
   "metadata": {},
   "outputs": [
    {
     "name": "stdout",
     "output_type": "stream",
     "text": [
      "   input1  input2  linear_combination  output  correct_output    check\n",
      "0       1       1                   0       1            True  correct\n",
      "1       1       0                  -2       0           False  correct\n",
      "2       0       1                   1       1           False    wrong\n",
      "3       0       0                  -1       0           False  correct\n",
      "   input1  input2  linear_combination  output  correct_output    check\n",
      "0       1       1                   1       1            True  correct\n",
      "1       1       0                   2       1           False    wrong\n",
      "2       0       1                  -1       0           False  correct\n",
      "3       0       0                   0       1           False    wrong\n",
      "   input1  input2  linear_combination  output  correct_output    check\n",
      "0       1       1                 0.0       1            True  correct\n",
      "1       1       0                -1.0       0           False  correct\n",
      "2       0       1                -1.0       0           False  correct\n",
      "3       0       0                -2.0       0           False  correct\n",
      "   input1  input2  linear_combination  output  correct_output    check\n",
      "0       1       1                 0.0       1            True  correct\n",
      "1       1       0                 1.0       1           False    wrong\n",
      "2       0       1                 2.0       1           False    wrong\n",
      "3       0       0                 3.0       1           False    wrong\n"
     ]
    }
   ],
   "source": [
    "for i in [(-1,2,-1),(2, -1,0),(1.0, 1.0,-2.0), (-2.0, -1.0,3.0)]:\n",
    "    print(AND_Perceptron(i[0], i[1], i[2]))"
   ]
  },
  {
   "cell_type": "markdown",
   "metadata": {},
   "source": [
    "## OR Perceptron\n",
    "\n",
    "We need to increase the weights and decrease the magnitude of the bias to change AND operator to an OR operator. Because even one of the input is zero we want from OR perceptron to return it 1 (linear_combination >=0). "
   ]
  },
  {
   "cell_type": "code",
   "execution_count": 45,
   "metadata": {},
   "outputs": [],
   "source": [
    "def OR_Perceptron(weight1 = 0.0, weight2 = 0.0,bias =0.0):\n",
    "    \n",
    "\n",
    "# inital weights & bias\n",
    "# weight1 = 0.0\n",
    "# weight2 = 0.0\n",
    "# bias = 0.0\n",
    "\n",
    "# Input & expected outpur\n",
    "    test_input = [(1,1), (1,0),(0,1), (0,0)]\n",
    "    correct_output = [True, True, True, False]\n",
    "    outputs = []\n",
    "    linear_combinations = []\n",
    "    \n",
    "    # Generate & check\n",
    "    for i in test_input:\n",
    "        linear_combination = weight1*i[0] + weight2*i[1] + bias\n",
    "        output = int(linear_combination>=0)\n",
    "    \n",
    "        outputs.append(output)\n",
    "        linear_combinations.append(linear_combination)\n",
    "        \n",
    "   \n",
    "\n",
    "    check = []\n",
    "    for i in range(4):\n",
    "        if outputs[i] == correct_output[i]:\n",
    "            check.append('correct')\n",
    "        else:\n",
    "            check.append('wrong')\n",
    "    \n",
    "        \n",
    "    results = pd.DataFrame({'input1': [1,1,0,0], 'input2': [1,0,1,0],\n",
    "                       'linear_combination':linear_combinations,\n",
    "                       'output': outputs,\n",
    "                       'correct_output': correct_output,\n",
    "                       'check':check})\n",
    "\n",
    "    return results"
   ]
  },
  {
   "cell_type": "code",
   "execution_count": 46,
   "metadata": {},
   "outputs": [
    {
     "name": "stdout",
     "output_type": "stream",
     "text": [
      "   input1  input2  linear_combination  output  correct_output    check\n",
      "0       1       1                   0       1            True  correct\n",
      "1       1       0                  -2       0            True    wrong\n",
      "2       0       1                   1       1            True  correct\n",
      "3       0       0                  -1       0           False  correct\n",
      "   input1  input2  linear_combination  output  correct_output    check\n",
      "0       1       1                   1       1            True  correct\n",
      "1       1       0                   2       1            True  correct\n",
      "2       0       1                  -1       0            True    wrong\n",
      "3       0       0                   0       1           False    wrong\n",
      "   input1  input2  linear_combination  output  correct_output    check\n",
      "0       1       1                 0.0       1            True  correct\n",
      "1       1       0                -1.0       0            True    wrong\n",
      "2       0       1                -1.0       0            True    wrong\n",
      "3       0       0                -2.0       0           False  correct\n",
      "   input1  input2  linear_combination  output  correct_output    check\n",
      "0       1       1                 0.0       1            True  correct\n",
      "1       1       0                 1.0       1            True  correct\n",
      "2       0       1                 2.0       1            True  correct\n",
      "3       0       0                 3.0       1           False    wrong\n"
     ]
    }
   ],
   "source": [
    "for i in [(-1,2,-1),(2, -1,0),(1.0, 1.0,-2.0), (-2.0, -1.0,3.0)]:\n",
    "    print(OR_Perceptron(i[0], i[1], i[2]))"
   ]
  },
  {
   "cell_type": "code",
   "execution_count": 51,
   "metadata": {},
   "outputs": [
    {
     "name": "stdout",
     "output_type": "stream",
     "text": [
      "   input1  input2  linear_combination  output  correct_output    check\n",
      "0       1       1                   2       1            True  correct\n",
      "1       1       0                   1       1            True  correct\n",
      "2       0       1                   0       1            True  correct\n",
      "3       0       0                  -1       0           False  correct\n",
      "   input1  input2  linear_combination  output  correct_output    check\n",
      "0       1       1                   4       1            True  correct\n",
      "1       1       0                   2       1            True  correct\n",
      "2       0       1                   1       1            True  correct\n",
      "3       0       0                  -1       0           False  correct\n",
      "   input1  input2  linear_combination  output  correct_output    check\n",
      "0       1       1                 0.0       1            True  correct\n",
      "1       1       0                -1.0       0            True    wrong\n",
      "2       0       1                -1.0       0            True    wrong\n",
      "3       0       0                -2.0       0           False  correct\n",
      "   input1  input2  linear_combination  output  correct_output    check\n",
      "0       1       1                 0.0       1            True  correct\n",
      "1       1       0                 1.0       1            True  correct\n",
      "2       0       1                 2.0       1            True  correct\n",
      "3       0       0                 3.0       1           False    wrong\n"
     ]
    }
   ],
   "source": [
    "for i in [(2,1,-1),(3,2,-1),(1.0, 1.0,-2.0), (-2.0, -1.0,3.0)]:\n",
    "    print(OR_Perceptron(i[0], i[1], i[2]))"
   ]
  },
  {
   "cell_type": "markdown",
   "metadata": {},
   "source": [
    "## NOT Perceptron"
   ]
  },
  {
   "cell_type": "code",
   "execution_count": 52,
   "metadata": {},
   "outputs": [],
   "source": [
    "def NOT_Perceptron(weight1 = 0.0, weight2 = 0.0,bias =0.0):\n",
    "    \n",
    "\n",
    "# inital weights & bias\n",
    "# weight1 = 0.0\n",
    "# weight2 = 0.0\n",
    "# bias = 0.0\n",
    "\n",
    "# Input & expected outpur\n",
    "    test_input = [(1,1), (1,0),(0,1), (0,0)]\n",
    "    correct_output = [False, True, False, True]\n",
    "    outputs = []\n",
    "    linear_combinations = []\n",
    "    \n",
    "    # Generate & check\n",
    "    for i in test_input:\n",
    "        linear_combination = weight1*i[0] + weight2*i[1] + bias\n",
    "        output = int(linear_combination>=0)\n",
    "    \n",
    "        outputs.append(output)\n",
    "        linear_combinations.append(linear_combination)\n",
    "        \n",
    "   \n",
    "\n",
    "    check = []\n",
    "    for i in range(4):\n",
    "        if outputs[i] == correct_output[i]:\n",
    "            check.append('correct')\n",
    "        else:\n",
    "            check.append('wrong')\n",
    "    \n",
    "        \n",
    "    results = pd.DataFrame({'input1': [1,1,0,0], 'input2': [1,0,1,0],\n",
    "                       'linear_combination':linear_combinations,\n",
    "                       'output': outputs,\n",
    "                       'correct_output': correct_output,\n",
    "                       'check':check})\n",
    "\n",
    "    return results"
   ]
  },
  {
   "cell_type": "code",
   "execution_count": 53,
   "metadata": {},
   "outputs": [
    {
     "data": {
      "text/html": [
       "<div>\n",
       "<style scoped>\n",
       "    .dataframe tbody tr th:only-of-type {\n",
       "        vertical-align: middle;\n",
       "    }\n",
       "\n",
       "    .dataframe tbody tr th {\n",
       "        vertical-align: top;\n",
       "    }\n",
       "\n",
       "    .dataframe thead th {\n",
       "        text-align: right;\n",
       "    }\n",
       "</style>\n",
       "<table border=\"1\" class=\"dataframe\">\n",
       "  <thead>\n",
       "    <tr style=\"text-align: right;\">\n",
       "      <th></th>\n",
       "      <th>input1</th>\n",
       "      <th>input2</th>\n",
       "      <th>linear_combination</th>\n",
       "      <th>output</th>\n",
       "      <th>correct_output</th>\n",
       "      <th>check</th>\n",
       "    </tr>\n",
       "  </thead>\n",
       "  <tbody>\n",
       "    <tr>\n",
       "      <th>0</th>\n",
       "      <td>1</td>\n",
       "      <td>1</td>\n",
       "      <td>-1.0</td>\n",
       "      <td>0</td>\n",
       "      <td>False</td>\n",
       "      <td>correct</td>\n",
       "    </tr>\n",
       "    <tr>\n",
       "      <th>1</th>\n",
       "      <td>1</td>\n",
       "      <td>0</td>\n",
       "      <td>0.0</td>\n",
       "      <td>1</td>\n",
       "      <td>True</td>\n",
       "      <td>correct</td>\n",
       "    </tr>\n",
       "    <tr>\n",
       "      <th>2</th>\n",
       "      <td>0</td>\n",
       "      <td>1</td>\n",
       "      <td>-1.0</td>\n",
       "      <td>0</td>\n",
       "      <td>False</td>\n",
       "      <td>correct</td>\n",
       "    </tr>\n",
       "    <tr>\n",
       "      <th>3</th>\n",
       "      <td>0</td>\n",
       "      <td>0</td>\n",
       "      <td>0.0</td>\n",
       "      <td>1</td>\n",
       "      <td>True</td>\n",
       "      <td>correct</td>\n",
       "    </tr>\n",
       "  </tbody>\n",
       "</table>\n",
       "</div>"
      ],
      "text/plain": [
       "   input1  input2  linear_combination  output  correct_output    check\n",
       "0       1       1                -1.0       0           False  correct\n",
       "1       1       0                 0.0       1            True  correct\n",
       "2       0       1                -1.0       0           False  correct\n",
       "3       0       0                 0.0       1            True  correct"
      ]
     },
     "execution_count": 53,
     "metadata": {},
     "output_type": "execute_result"
    }
   ],
   "source": [
    " NOT_Perceptron(0.0, -1.0, 0.0)"
   ]
  },
  {
   "cell_type": "markdown",
   "metadata": {},
   "source": [
    "# Perceptron Algorithm"
   ]
  },
  {
   "cell_type": "code",
   "execution_count": 5,
   "metadata": {},
   "outputs": [],
   "source": [
    "import numpy as np\n",
    "import pandas as pd\n",
    "# Setting the random seed, feel free to change it and see different solutions.\n",
    "np.random.seed(42)"
   ]
  },
  {
   "cell_type": "code",
   "execution_count": 10,
   "metadata": {},
   "outputs": [],
   "source": [
    "X = pd.read_csv('data.csv', header=None)"
   ]
  },
  {
   "cell_type": "code",
   "execution_count": 18,
   "metadata": {},
   "outputs": [
    {
     "data": {
      "text/plain": [
       "array(<pandas.core.indexing._LocIndexer object at 0x12046f408>,\n",
       "      dtype=object)"
      ]
     },
     "execution_count": 18,
     "metadata": {},
     "output_type": "execute_result"
    }
   ],
   "source": [
    "a = np.array(X.loc(0))\n",
    "a"
   ]
  },
  {
   "cell_type": "code",
   "execution_count": 3,
   "metadata": {},
   "outputs": [
    {
     "data": {
      "text/plain": [
       "0"
      ]
     },
     "execution_count": 3,
     "metadata": {},
     "output_type": "execute_result"
    }
   ],
   "source": [
    "def stepFunction(t):\n",
    "    if t >= 0:\n",
    "        return 1\n",
    "    return 0\n",
    "\n",
    "def prediction(X, W, b):\n",
    "    return stepFunction((np.matmul(X,W)+b)[0])\n",
    "\n",
    "# TODO: Fill in the code below to implement the perceptron trick.\n",
    "\n",
    "# The function should receive as inputs the data X, the labels y,\n",
    "# the weights W (as an array), and the bias b,\n",
    "# update the weights and bias W, b, according to the perceptron algorithm,\n",
    "# and return W and b.\n",
    "def perceptronStep(X, y, W, b, learn_rate = 0.01):\n",
    "    if prediction(X, w, b)\n",
    "    return W, b\n",
    "    \n",
    "# This function runs the perceptron algorithm repeatedly on the dataset,\n",
    "# and returns a few of the boundary lines obtained in the iterations,\n",
    "# for plotting purposes.\n",
    "# Feel free to play with the learning rate and the num_epochs,\n",
    "# and see your results plotted below.\n",
    "def trainPerceptronAlgorithm(X, y, learn_rate = 0.01, num_epochs = 25):\n",
    "    x_min, x_max = min(X.T[0]), max(X.T[0])\n",
    "    y_min, y_max = min(X.T[1]), max(X.T[1])\n",
    "    W = np.array(np.random.rand(2,1))\n",
    "    b = np.random.rand(1)[0] + x_max\n",
    "    # These are the solution lines that get plotted below.\n",
    "    boundary_lines = []\n",
    "    for i in range(num_epochs):\n",
    "        # In each epoch, we apply the perceptron step.\n",
    "        W, b = perceptronStep(X, y, W, b, learn_rate)\n",
    "        boundary_lines.append((-W[0]/W[1], -b/W[1]))\n",
    "    return boundary_lines\n",
    "\n"
   ]
  },
  {
   "cell_type": "code",
   "execution_count": null,
   "metadata": {},
   "outputs": [],
   "source": []
  }
 ],
 "metadata": {
  "kernelspec": {
   "display_name": "Python 3",
   "language": "python",
   "name": "python3"
  },
  "language_info": {
   "codemirror_mode": {
    "name": "ipython",
    "version": 3
   },
   "file_extension": ".py",
   "mimetype": "text/x-python",
   "name": "python",
   "nbconvert_exporter": "python",
   "pygments_lexer": "ipython3",
   "version": "3.6.9"
  },
  "toc": {
   "base_numbering": 1,
   "nav_menu": {},
   "number_sections": true,
   "sideBar": true,
   "skip_h1_title": false,
   "title_cell": "Table of Contents",
   "title_sidebar": "Contents",
   "toc_cell": false,
   "toc_position": {
    "height": "calc(100% - 180px)",
    "left": "10px",
    "top": "150px",
    "width": "165px"
   },
   "toc_section_display": true,
   "toc_window_display": true
  }
 },
 "nbformat": 4,
 "nbformat_minor": 2
}
